{
 "cells": [
  {
   "cell_type": "code",
   "execution_count": 1,
   "metadata": {},
   "outputs": [],
   "source": [
    "from glob import glob\n",
    "import pandas as pd\n",
    "import json\n",
    "import openpyxl"
   ]
  },
  {
   "cell_type": "code",
   "execution_count": 5,
   "metadata": {},
   "outputs": [],
   "source": [
    "tags_to_consider = {\n",
    "        \"income statement\": [\n",
    "            \"Total Revenue\", \"Pretax Income\", \"Tax Provision\", \n",
    "            \"Net Income\", \"Basic EPS\", \"Diluted EPS\",\n",
    "        ],\n",
    "        \"balance sheet\": [\n",
    "            \"Current Assets\", \"Total Assets\", \"Current Liabilities\", \n",
    "            \"Total Liabilities\"\n",
    "        ],\n",
    "        \"cash flow\": [\n",
    "            \"Operating Cash Flow\", \"Investing Cash Flow\", \"Financing Cash Flow\"\n",
    "        ]\n",
    "    }"
   ]
  },
  {
   "cell_type": "code",
   "execution_count": 7,
   "metadata": {},
   "outputs": [],
   "source": [
    "# code to find in which files, certain tags are failed to tag.\n",
    "table_names = ['income statement', 'balance sheet', 'cash flow']\n",
    "texts_lst = []\n",
    "tags_lst = []\n",
    "tags_report = {\n",
    "    'income statement': {},\n",
    "    'balance sheet':{},\n",
    "    'cash flow': {}\n",
    "}\n",
    "\n",
    "for path in glob(r\"C:\\Users\\Manohar\\Desktop\\Projects\\Finance-Extraction\\data\\current\\*\\*\\tagged_tables.xlsx\"):\n",
    "    workbook = openpyxl.load_workbook(path)\n",
    "    visited_tags = {\n",
    "        'income statement': [],\n",
    "        'balance sheet': [],\n",
    "        'cash flow': []\n",
    "    }\n",
    "    for t_name in workbook.sheetnames:\n",
    "        try:\n",
    "            df = pd.read_excel(path, sheet_name=t_name)\n",
    "        except ValueError:\n",
    "            continue\n",
    "        t_name = t_name.split(\"_\")[-1]\n",
    "        t_tags = tags_to_consider[t_name]\n",
    "        c_tags = df['Tag'].fillna(\"\").to_list()\n",
    "        for t_tag in t_tags:\n",
    "            if t_tag in c_tags:\n",
    "                visited_tags[t_name].append(t_tag)\n",
    "                continue\n",
    "            elif t_tag in visited_tags[t_name]:\n",
    "                continue\n",
    "            if t_tag not in tags_report[t_name]:\n",
    "                tags_report[t_name][t_tag] = []\n",
    "            tags_report[t_name][t_tag].append(path)\n",
    "\n",
    "with open(\"report.json\", \"w\") as f:\n",
    "    json.dump(tags_report, f, indent=4)"
   ]
  },
  {
   "cell_type": "code",
   "execution_count": null,
   "metadata": {},
   "outputs": [],
   "source": [
    "# write code to find duplicate tags"
   ]
  },
  {
   "cell_type": "markdown",
   "metadata": {},
   "source": [
    "### Hello"
   ]
  },
  {
   "cell_type": "code",
   "execution_count": null,
   "metadata": {},
   "outputs": [],
   "source": []
  }
 ],
 "metadata": {
  "kernelspec": {
   "display_name": "Python 3 (ipykernel)",
   "language": "python",
   "name": "python3"
  },
  "language_info": {
   "codemirror_mode": {
    "name": "ipython",
    "version": 3
   },
   "file_extension": ".py",
   "mimetype": "text/x-python",
   "name": "python",
   "nbconvert_exporter": "python",
   "pygments_lexer": "ipython3",
   "version": "3.10.9"
  }
 },
 "nbformat": 4,
 "nbformat_minor": 4
}
